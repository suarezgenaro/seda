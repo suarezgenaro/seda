{
 "cells": [
  {
   "cell_type": "code",
   "execution_count": 15,
   "id": "b339c21a",
   "metadata": {},
   "outputs": [],
   "source": [
    "url = 'http://svo2.cab.inta-csic.es/theory/fps/index.php?mode=browse&gname=WISE&asttype='"
   ]
  },
  {
   "cell_type": "code",
   "execution_count": 17,
   "id": "46d9697f",
   "metadata": {},
   "outputs": [],
   "source": [
    "import requests\n",
    "\n",
    "req = requests.get(url)\n",
    "\n",
    "if req.status_code in [200]:\n",
    "    html = req.text\n",
    "else:\n",
    "    print('Could not retrieve: %s, err: %s - status code: %s' % (url, req.text, req.status_code))\n",
    "    html = None"
   ]
  },
  {
   "cell_type": "code",
   "execution_count": null,
   "id": "104d6b66",
   "metadata": {},
   "outputs": [],
   "source": []
  }
 ],
 "metadata": {
  "kernelspec": {
   "display_name": "Python 3 (ipykernel)",
   "language": "python",
   "name": "python3"
  },
  "language_info": {
   "codemirror_mode": {
    "name": "ipython",
    "version": 3
   },
   "file_extension": ".py",
   "mimetype": "text/x-python",
   "name": "python",
   "nbconvert_exporter": "python",
   "pygments_lexer": "ipython3",
   "version": "3.9.13"
  }
 },
 "nbformat": 4,
 "nbformat_minor": 5
}
