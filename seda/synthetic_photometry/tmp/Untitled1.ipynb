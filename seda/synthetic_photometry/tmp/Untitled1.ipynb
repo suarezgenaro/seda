{
 "cells": [
  {
   "cell_type": "code",
   "execution_count": 1,
   "id": "c7443c39",
   "metadata": {},
   "outputs": [],
   "source": [
    "# W0415\n",
    "from astropy.io import fits, ascii\n",
    "import numpy as np\n",
    "\n",
    "# SpeX spectrum (the one Jackie send me and calibrated using the 2MASS photometry)\n",
    "SpeX_name = '/home/gsuarez/TRABAJO/Postdoc/AMNH/projects/JWST_Program2124/other_data/W0415/SpeX_flux_calibration/SpeX_0415-0935.dat'\n",
    "SpeX = ascii.read(SpeX_name)\n",
    "wl_SpeX = SpeX['wl(um)'] # um \n",
    "flux_SpeX = SpeX['flux(erg/s/cm2/A)'] # erg/s/cm2/A\n",
    "eflux_SpeX = SpeX['eflux(erg/s/cm2/A)'] # erg/s/cm2/A\n",
    "# cut both edges\n",
    "mask_SpeX = (flux_SpeX>4.587e-19) & (wl_SpeX<2.55252) & (wl_SpeX>0.66516)\n",
    "wl_SpeX = wl_SpeX[mask_SpeX]\n",
    "flux_SpeX = flux_SpeX[mask_SpeX]\n",
    "eflux_SpeX = eflux_SpeX[mask_SpeX]\n",
    "# remove the optical spectra because they look weird compared to the one by Keck/LRIS (Kirkpatrick+2008)\n",
    "mask = wl_SpeX>0.9\n",
    "wl_SpeX = wl_SpeX[mask]\n",
    "flux_SpeX = flux_SpeX[mask]\n",
    "eflux_SpeX = eflux_SpeX[mask]\n",
    "# manage weird data points\n",
    "mask = wl_SpeX==2.22724 # data point with an extremely low flux error (ef/f=1e-5)\n",
    "eflux_SpeX[mask] = np.median(eflux_SpeX)"
   ]
  },
  {
   "cell_type": "code",
   "execution_count": 2,
   "id": "a68e6961",
   "metadata": {},
   "outputs": [],
   "source": [
    "import synthetic_photometry\n",
    "import importlib"
   ]
  },
  {
   "cell_type": "code",
   "execution_count": 3,
   "id": "96f63ada",
   "metadata": {},
   "outputs": [
    {
     "name": "stdout",
     "output_type": "stream",
     "text": [
      "TEST\n"
     ]
    },
    {
     "name": "stderr",
     "output_type": "stream",
     "text": [
      "WARNING: UnitsWarning: The unit 'Angstrom' has been deprecated in the VOUnit standard. Suggested: 0.1nm. [astropy.units.format.utils]\n"
     ]
    },
    {
     "name": "stdout",
     "output_type": "stream",
     "text": [
      "TEST1\n"
     ]
    },
    {
     "ename": "SystemExit",
     "evalue": "",
     "output_type": "error",
     "traceback": [
      "An exception has occurred, use %tb to see the full traceback.\n",
      "\u001b[0;31mSystemExit\u001b[0m\n"
     ]
    },
    {
     "name": "stderr",
     "output_type": "stream",
     "text": [
      "/home/gsuarez/TRABAJO/PROGRAMS/Anaconda/anaconda3/lib/python3.9/site-packages/IPython/core/interactiveshell.py:3465: UserWarning: To exit: use 'exit', 'quit', or Ctrl-D.\n",
      "  warn(\"To exit: use 'exit', 'quit', or Ctrl-D.\", stacklevel=1)\n"
     ]
    }
   ],
   "source": [
    "filters = (['2MASS/2MASS.J', '2MASS/2MASS.H', '2MASS/2MASS.Ks'])\n",
    "importlib.reload(synthetic_photometry)\n",
    "synthetic_photometry.synthetic_photometry(wl=wl_SpeX, flux=flux_SpeX, eflux=eflux_SpeX, filters=filters, flux_unit='erg/s/cm2/A')"
   ]
  },
  {
   "cell_type": "code",
   "execution_count": null,
   "id": "cda6ffed",
   "metadata": {},
   "outputs": [],
   "source": [
    "from synthetic_photometry import synthetic_photometry\n",
    "synthetic_photometry(wl=wl_SpeX, flux=flux_SpeX, eflux=eflux_SpeX, filters=filters, flux_unit='erg/s/cm2/A')"
   ]
  },
  {
   "cell_type": "code",
   "execution_count": null,
   "id": "7330250d",
   "metadata": {},
   "outputs": [],
   "source": []
  },
  {
   "cell_type": "code",
   "execution_count": null,
   "id": "04ae7aa8",
   "metadata": {},
   "outputs": [],
   "source": []
  },
  {
   "cell_type": "code",
   "execution_count": null,
   "id": "665b4685",
   "metadata": {},
   "outputs": [],
   "source": []
  },
  {
   "cell_type": "code",
   "execution_count": null,
   "id": "8f49c30e",
   "metadata": {},
   "outputs": [],
   "source": [
    "from astropy.table import Table "
   ]
  },
  {
   "cell_type": "code",
   "execution_count": null,
   "id": "be1ac109",
   "metadata": {},
   "outputs": [],
   "source": [
    "svo_data = Table.read('https://svo.cab.inta-csic.es/files/svo/Public/HowTo/FPS/FPS_info.xml', format='votable')"
   ]
  },
  {
   "cell_type": "code",
   "execution_count": null,
   "id": "468325fb",
   "metadata": {},
   "outputs": [],
   "source": [
    "svo_data['filterID', 'ZeroPoint']"
   ]
  },
  {
   "cell_type": "code",
   "execution_count": null,
   "id": "99a92cab",
   "metadata": {},
   "outputs": [],
   "source": []
  },
  {
   "cell_type": "code",
   "execution_count": null,
   "id": "8806b409",
   "metadata": {},
   "outputs": [],
   "source": []
  },
  {
   "cell_type": "code",
   "execution_count": null,
   "id": "f056608c",
   "metadata": {},
   "outputs": [],
   "source": []
  },
  {
   "cell_type": "code",
   "execution_count": null,
   "id": "27ae523e",
   "metadata": {},
   "outputs": [],
   "source": [
    "filters = '2MASS/2MASS.H'\n",
    "page = f'http://svo2.cab.inta-csic.es/theory/fps/fps.php?ID={filters}'"
   ]
  },
  {
   "cell_type": "code",
   "execution_count": null,
   "id": "a3b9c249",
   "metadata": {},
   "outputs": [],
   "source": [
    "# ascii.write(kk, 'kk.dat', format='no_header', formats={'Wavelength': '%.1f', 'Transmission': '%.10f'}, overwrite=True)"
   ]
  },
  {
   "cell_type": "code",
   "execution_count": null,
   "id": "7058d67b",
   "metadata": {},
   "outputs": [],
   "source": [
    "from astropy.table import Table\n",
    "zeropoints_file = '../zeropoints.xml'\n",
    "zeropoints = Table.read(zeropoints_file, format='votable')\n",
    "filterID = zeropoints['filterID']"
   ]
  },
  {
   "cell_type": "code",
   "execution_count": null,
   "id": "0be743e2",
   "metadata": {},
   "outputs": [],
   "source": [
    "filters = (['2MASS/2MASS.J', '2MASS/2aMASS.H', '2MASS/2MASS.Ks'])\n",
    "for i in range(len(filters)):\n",
    "#     print(filters[i] in filterID)\n",
    "    if filters[i] in filterID: print(f'   filter does exit')\n",
    "    if not filters[i] in filterID: print(f'   filter does not exit')"
   ]
  },
  {
   "cell_type": "code",
   "execution_count": null,
   "id": "f81a74e4",
   "metadata": {},
   "outputs": [],
   "source": []
  },
  {
   "cell_type": "code",
   "execution_count": null,
   "id": "83144400",
   "metadata": {},
   "outputs": [],
   "source": [
    " 94 #   #TEST\n",
    " 95 #from astropy.table import Table\n",
    " 96 #table = Table.read(f'http://svo2.cab.inta-csic.es/theory/fps/fps.php?ID={filters}') \n",
    " 97 #ascii.write(table, 'kk.dat', format='no_header', formats={'Wavelength': '%.1f', 'Transmission': '%.10f'})\n",
    " 98 ##  from astropy.io.votable import parse\n",
    " 99 ##  votable = parse(f'http://svo2.cab.inta-csic.es/theory/fps/fps.php?ID={filters}')\n",
    "100 ##  table = votable.get_first_table().to_table(use_names_over_ids=True)\n",
    "101 ##  ascii.write(table, 'kk.dat', format='no_header', formats={'Wavelength': '%.1f', 'Transmission': '%.10f'})"
   ]
  },
  {
   "cell_type": "code",
   "execution_count": null,
   "id": "4e9b2420",
   "metadata": {},
   "outputs": [],
   "source": []
  },
  {
   "cell_type": "code",
   "execution_count": null,
   "id": "8879ffc4",
   "metadata": {},
   "outputs": [],
   "source": []
  },
  {
   "cell_type": "code",
   "execution_count": null,
   "id": "a9cc9f90",
   "metadata": {},
   "outputs": [],
   "source": []
  },
  {
   "cell_type": "code",
   "execution_count": null,
   "id": "4046d33a",
   "metadata": {},
   "outputs": [],
   "source": [
    "from urllib.request  import urlopen\n",
    "# page = 'http://svo2.cab.inta-csic.es/theory/fps/index.php?id=2MASS/2MASS.J&&mode=browse&gname=2MASS&gname2=2MASS#filter'\n",
    "# page = 'http://svo2.cab.inta-csic.es/theory/fps/index.php?mode=browse&gname=2MASS&asttype='\n",
    "page = f'http://svo2.cab.inta-csic.es/theory/fps/fps.php?ID={filters}'\n",
    "response = urlopen(page)"
   ]
  },
  {
   "cell_type": "code",
   "execution_count": null,
   "id": "16457503",
   "metadata": {},
   "outputs": [],
   "source": [
    "from bs4 import BeautifulSoup\n",
    "soup = BeautifulSoup(response.read())#, from_encoding=response.headers.getparam('charset'))"
   ]
  },
  {
   "cell_type": "code",
   "execution_count": null,
   "id": "1882bba6",
   "metadata": {},
   "outputs": [],
   "source": []
  },
  {
   "cell_type": "code",
   "execution_count": null,
   "id": "e82f1b84",
   "metadata": {},
   "outputs": [],
   "source": [
    "soup"
   ]
  },
  {
   "cell_type": "code",
   "execution_count": null,
   "id": "d0fa2c6d",
   "metadata": {},
   "outputs": [],
   "source": []
  },
  {
   "cell_type": "code",
   "execution_count": null,
   "id": "5c09e3e4",
   "metadata": {},
   "outputs": [],
   "source": []
  },
  {
   "cell_type": "code",
   "execution_count": null,
   "id": "437c838a",
   "metadata": {},
   "outputs": [],
   "source": [
    "from astropy.io.votable import parse_single_table\n",
    "table = parse_single_table(page)"
   ]
  },
  {
   "cell_type": "code",
   "execution_count": null,
   "id": "8b4ae42a",
   "metadata": {},
   "outputs": [],
   "source": [
    "table"
   ]
  },
  {
   "cell_type": "code",
   "execution_count": null,
   "id": "a861f366",
   "metadata": {},
   "outputs": [],
   "source": []
  },
  {
   "cell_type": "code",
   "execution_count": null,
   "id": "e44b5bbe",
   "metadata": {},
   "outputs": [],
   "source": []
  },
  {
   "cell_type": "code",
   "execution_count": null,
   "id": "9dca765a",
   "metadata": {},
   "outputs": [],
   "source": [
    "votable = parse(f'http://svo2.cab.inta-csic.es/theory/fps/fps.php?ID={filters}')\n",
    "# table = votable.get_first_table().to_table(use_names_over_ids=True)"
   ]
  },
  {
   "cell_type": "code",
   "execution_count": null,
   "id": "2de6c144",
   "metadata": {},
   "outputs": [],
   "source": [
    "votable"
   ]
  },
  {
   "cell_type": "code",
   "execution_count": null,
   "id": "fc5b9d9d",
   "metadata": {},
   "outputs": [],
   "source": []
  },
  {
   "cell_type": "code",
   "execution_count": null,
   "id": "d94aa2ae",
   "metadata": {},
   "outputs": [],
   "source": []
  },
  {
   "cell_type": "code",
   "execution_count": null,
   "id": "fc5f6694",
   "metadata": {},
   "outputs": [],
   "source": []
  },
  {
   "cell_type": "code",
   "execution_count": null,
   "id": "0640dcaa",
   "metadata": {},
   "outputs": [],
   "source": []
  },
  {
   "cell_type": "code",
   "execution_count": null,
   "id": "862363a8",
   "metadata": {},
   "outputs": [],
   "source": [
    "from astropy.table import Table\n",
    "H = Table.read(page)\n",
    "\n",
    "for resource in H.resources:\n",
    "    for param in resource.params:\n",
    "        print(param.name, param.value)"
   ]
  },
  {
   "cell_type": "code",
   "execution_count": null,
   "id": "347c5fa8",
   "metadata": {},
   "outputs": [],
   "source": [
    "H"
   ]
  },
  {
   "cell_type": "code",
   "execution_count": null,
   "id": "ea428bd4",
   "metadata": {},
   "outputs": [],
   "source": []
  },
  {
   "cell_type": "code",
   "execution_count": null,
   "id": "42794557",
   "metadata": {},
   "outputs": [],
   "source": [
    "kk.pprint_all"
   ]
  }
 ],
 "metadata": {
  "kernelspec": {
   "display_name": "Python 3 (ipykernel)",
   "language": "python",
   "name": "python3"
  },
  "language_info": {
   "codemirror_mode": {
    "name": "ipython",
    "version": 3
   },
   "file_extension": ".py",
   "mimetype": "text/x-python",
   "name": "python",
   "nbconvert_exporter": "python",
   "pygments_lexer": "ipython3",
   "version": "3.9.13"
  }
 },
 "nbformat": 4,
 "nbformat_minor": 5
}
