{
 "cells": [
  {
   "cell_type": "code",
   "execution_count": 1,
   "id": "da79f364",
   "metadata": {},
   "outputs": [
    {
     "name": "stdout",
     "output_type": "stream",
     "text": [
      "\n",
      "    SEDA package imported\n"
     ]
    }
   ],
   "source": [
    "import seda\n",
    "import pickle\n",
    "import numpy as np"
   ]
  },
  {
   "cell_type": "code",
   "execution_count": 8,
   "id": "554436d2",
   "metadata": {},
   "outputs": [
    {
     "name": "stdout",
     "output_type": "stream",
     "text": [
      "Caveat: spt=29.9 is out of the coverage by \"F15\", so Teff was extrapolated.\n",
      "   The valid spt range is ['M6', 'T9'] ([6.0, 29.0])\n"
     ]
    },
    {
     "data": {
      "text/plain": [
       "334.9142808723991"
      ]
     },
     "execution_count": 8,
     "metadata": {},
     "output_type": "execute_result"
    }
   ],
   "source": [
    "spt = 'T9.9'\n",
    "seda.spt_to_teff(spt, spt_type='str')"
   ]
  },
  {
   "cell_type": "code",
   "execution_count": 9,
   "id": "f8b0e8b2",
   "metadata": {},
   "outputs": [
    {
     "name": "stdout",
     "output_type": "stream",
     "text": [
      "\n",
      "      226 model spectra\n",
      "\n",
      "         Coverage of free parameter saved successfully\n"
     ]
    }
   ],
   "source": [
    "# read all the Sonora Elf Owl models\n",
    "model = 'Sonora_Elf_Owl'\n",
    "# all folder with model spectra\n",
    "model_folders = np.array(['output_275.0_325.0/', 'output_350.0_400.0/', \n",
    "                          'output_425.0_475.0/', 'output_500.0_550.0/', \n",
    "                          'output_575.0_650.0/', 'output_700.0_800.0/', \n",
    "                          'output_850.0_950.0/', 'output_1000.0_1200.0/',\n",
    "                          'output_1300.0_1400.0/', 'output_1600.0_1800.0/', \n",
    "                          'output_1900.0_2100.0/', 'output_2200.0_2400.0/'\n",
    "                          ])\n",
    "# path to the folder with the spectra\n",
    "model_path = '/home/gsuarez/TRABAJO/MODELS/atmosphere_models/Sonora_Elf_Owl/spectra/'\n",
    "# attach the path to each folder\n",
    "model_dir = np.char.add(model_path, model_folders)\n",
    "\n",
    "model = 'Sonora_Diamondback'\n",
    "model_dir = ['/home/gsuarez/TRABAJO/MODELS/atmosphere_models/Sonora_Diamondback/spectra/']\n",
    "model = 'LB23'\n",
    "model_dir = '/home/gsuarez/TRABAJO/MODELS/atmosphere_models/LB2023_extended/LB2023_extended/Spectra/'\n",
    "model = 'Sonora_Cholla'\n",
    "model_dir = '/home/gsuarez/TRABAJO/MODELS/atmosphere_models/Sonora_Cholla/spectra_files/'\n",
    "model = 'Sonora_Bobcat'\n",
    "model_dir = ['/home/gsuarez/TRABAJO/MODELS/atmosphere_models/Sonora_Bobcat/spectra_m+0.0/',\n",
    "             '/home/gsuarez/TRABAJO/MODELS/atmosphere_models/Sonora_Bobcat/spectra_m+0.5/',\n",
    "             '/home/gsuarez/TRABAJO/MODELS/atmosphere_models/Sonora_Bobcat/spectra_m-0.5/',\n",
    "             '/home/gsuarez/TRABAJO/MODELS/atmosphere_models/Sonora_Bobcat/spectra_m+0.0_co0.5_g1000nc/',\n",
    "             '/home/gsuarez/TRABAJO/MODELS/atmosphere_models/Sonora_Bobcat/spectra_m+0.0_co1.5_g1000nc/',\n",
    "            ]\n",
    "model = 'ATMO2020'\n",
    "model_dir = ['/home/gsuarez/TRABAJO/MODELS/atmosphere_models/ATMO2020/atmosphere_models/CEQ_spectra/',\n",
    "             '/home/gsuarez/TRABAJO/MODELS/atmosphere_models/ATMO2020/atmosphere_models/NEQ_weak_spectra/',\n",
    "             '/home/gsuarez/TRABAJO/MODELS/atmosphere_models/ATMO2020/atmosphere_models/NEQ_strong_spectra/',\n",
    "            ]\n",
    "model = 'BT-Settl'\n",
    "model_dir = ['/home/gsuarez/TRABAJO/MODELS/atmosphere_models/Allard_Models/BT-Settl/CIFIST2011c/SPECTRA/']\n",
    "model = 'SM08'\n",
    "model_dir = '/home/gsuarez/TRABAJO/MODELS/atmosphere_models/Saumon_Marley_2008_models/spectra/'\n",
    "\n",
    "\n",
    "# get all spectra files in the directories\n",
    "# and save then in the folder seda/models_aux/model_coverage/\n",
    "a = seda.select_model_spectra(model=model, model_dir=model_dir, save_results=True)"
   ]
  },
  {
   "cell_type": "code",
   "execution_count": null,
   "id": "49dba84b",
   "metadata": {},
   "outputs": [],
   "source": []
  },
  {
   "cell_type": "code",
   "execution_count": 10,
   "id": "c3c3b8e1",
   "metadata": {},
   "outputs": [],
   "source": [
    "# open pickle file\n",
    "# relative path to the file saved above\n",
    "rel_path = f'../../seda/models_aux/model_coverage/{model}_free_parameters.pickle'\n",
    "with open(rel_path, 'rb') as file:\n",
    "    free_params = pickle.load(file)"
   ]
  },
  {
   "cell_type": "code",
   "execution_count": 11,
   "id": "004e30e4",
   "metadata": {
    "scrolled": true
   },
   "outputs": [
    {
     "name": "stdout",
     "output_type": "stream",
     "text": [
      "Teff\n",
      "logg\n",
      "fsed\n"
     ]
    }
   ],
   "source": [
    "for param in free_params['params']:\n",
    "    print(param)"
   ]
  }
 ],
 "metadata": {
  "kernelspec": {
   "display_name": "Python 3 (ipykernel)",
   "language": "python",
   "name": "python3"
  },
  "language_info": {
   "codemirror_mode": {
    "name": "ipython",
    "version": 3
   },
   "file_extension": ".py",
   "mimetype": "text/x-python",
   "name": "python",
   "nbconvert_exporter": "python",
   "pygments_lexer": "ipython3",
   "version": "3.9.13"
  }
 },
 "nbformat": 4,
 "nbformat_minor": 5
}
