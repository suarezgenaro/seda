{
 "cells": [
  {
   "cell_type": "markdown",
   "id": "ae0cda07",
   "metadata": {},
   "source": [
    "\n",
    "# Ingest New Atmospheric Models into SEDA"
   ]
  },
  {
   "cell_type": "markdown",
   "id": "fa86b2dc",
   "metadata": {},
   "source": [
    "Tutorial to show how users can use models not in the [list of available models](https://seda.readthedocs.io/en/latest/overview.html#available-atmospheric-models)."
   ]
  },
  {
   "cell_type": "code",
   "execution_count": 1,
   "id": "da79f364",
   "metadata": {},
   "outputs": [
    {
     "name": "stdout",
     "output_type": "stream",
     "text": [
      "\n",
      "    SEDA v0.1.2 package imported\n"
     ]
    }
   ],
   "source": [
    "import seda\n",
    "import pickle\n",
    "import numpy as np\n",
    "import os\n",
    "import json\n",
    "import importlib\n",
    "import fnmatch"
   ]
  },
  {
   "cell_type": "markdown",
   "id": "eccf10ca",
   "metadata": {},
   "source": [
    "Available models:"
   ]
  },
  {
   "cell_type": "code",
   "execution_count": 2,
   "id": "07a710a6",
   "metadata": {},
   "outputs": [
    {
     "data": {
      "text/plain": [
       "['BT-Settl',\n",
       " 'ATMO2020',\n",
       " 'Sonora_Elf_Owl',\n",
       " 'Exo-REM',\n",
       " 'SM08',\n",
       " 'Sonora_Bobcat',\n",
       " 'Sonora_Diamondback',\n",
       " 'Sonora_Cholla',\n",
       " 'LB23']"
      ]
     },
     "execution_count": 2,
     "metadata": {},
     "output_type": "execute_result"
    }
   ],
   "source": [
    "seda.Models().available_models"
   ]
  },
  {
   "cell_type": "markdown",
   "id": "78675f38",
   "metadata": {},
   "source": [
    "If the models you are interested in are not listed above, you can ingest new models by following the steps in the tutorial.\n",
    "\n",
    "As an example, let's ingest the Exo-REM models, which are not available as of May 27, 2025.\n",
    "\n",
    "First, let's create a JSON file containing basic information for the models to be used throughout the code and accessed via several attributes of seda.Models(). To do this, make a dictionary with relevant parameters by following the script below, modifing only the lines marked with the comment \"fill out accordingly\". Then save the dictionary in `models_aux/model_specifics` using the naming convention \"`model`_models.json\" (the script below should automatically find the appropriate path and name to save the file, so just double check the new json file was stored in `models_aux/model_specifics`):"
   ]
  },
  {
   "cell_type": "code",
   "execution_count": 3,
   "id": "457a00b7",
   "metadata": {},
   "outputs": [
    {
     "name": "stdout",
     "output_type": "stream",
     "text": [
      "JSON file 'Exo-REM_models.json' created successfully.\n"
     ]
    }
   ],
   "source": [
    "data = {\n",
    "    \"_comment_model\": \"Internal label for the atmospheric models\",\n",
    "    \"model\": \"Exo-REM\", # fill out accordingly\n",
    "    \"_comment_ref\": \"Reference for the models (optional)\",\n",
    "    \"ref\": \"Charnay et al. (2018)\",  # fill out accordingly\n",
    "    \"_comment_name\": \"Name of the models (optional)\",\n",
    "    \"name\": \"Exo-REM\", # fill out accordingly\n",
    "    \"_comment_bibcode\": \"bibcode identifier for the models (optional)\",\n",
    "    \"bibcode\": \"2018ApJ...854..172C\", # fill out accordingly\n",
    "    \"_comment_ADS\": \"ADS links to the model publication (optional)\",\n",
    "    \"ADS\": \"https://ui.adsabs.harvard.edu/abs/2018ApJ...854..172C/abstract\", # fill out accordingly\n",
    "    \"_comment_download\": \"Link to download the models (optional)\",\n",
    "    \"download\": \"https://lesia.obspm.fr/exorem/YGP_grids/\", # fill out accordingly\n",
    "    \"_comment_filename_pattern\": \"Common pattern recognized in all spectra filenames used to select only spectra files in case there are other files in the same directory\",\n",
    "    \"filename_pattern\": \"spectra_YGP_*.dat\", # fill out accordingly\n",
    "    \"_comment_free_params\": \"Free parameters in the models\",\n",
    "    \"free_params\": [\"Teff\", \"logg\", \"Z\", \"CtoO\"] # fill out accordingly\n",
    "}\n",
    "\n",
    "# file path to save the JSON file\n",
    "file_path = os.path.dirname(seda.__file__)+'/models_aux/model_specifics/'\n",
    "# file name\n",
    "file = f\"{data['model']}_models.json\"\n",
    "\n",
    "# write the dictionary to a JSON file\n",
    "with open(file_path+file, 'w') as json_file:\n",
    "    json.dump(data, json_file, indent=4)\n",
    "\n",
    "print(f\"JSON file '{file}' created successfully.\")"
   ]
  },
  {
   "cell_type": "markdown",
   "id": "e46767f6",
   "metadata": {},
   "source": [
    "Next, let's make a script that reads the free parameters for each spectrum from file names. The parameters obtained from file names must match the free parameters `free_params` in the dictionary made above. **Just for now**, we can edit the function `separate_params` in module `models.py` to add a conditional for the new models, following the steps for the already available models."
   ]
  },
  {
   "cell_type": "code",
   "execution_count": null,
   "id": "6fff5cee",
   "metadata": {},
   "outputs": [],
   "source": []
  },
  {
   "cell_type": "markdown",
   "id": "7373efde",
   "metadata": {},
   "source": [
    "Now let's create a pickle file in the folder `models_aux/model_coverage` that will store the full coverage of each free parameter in the models. This file will allow to use functions like `seda.Models(model)` and `plot_model_coverage`. To do this, only update the path below to point to the new models."
   ]
  },
  {
   "cell_type": "code",
   "execution_count": 4,
   "id": "a4ec3a77",
   "metadata": {},
   "outputs": [
    {
     "name": "stdout",
     "output_type": "stream",
     "text": [
      "\n",
      "      13403 model spectra\n"
     ]
    }
   ],
   "source": [
    "model_dir = '/home/gsuarez/TRABAJO/MODELS/atmosphere_models/Exo-REM/cloud_R20000_updated/'\n",
    "\n",
    "\n",
    "# extract some info from the dictionary above\n",
    "model = data['model']\n",
    "filename_pattern = data['filename_pattern']\n",
    "# find path to the folder \"models_aux/model_coverage\" and set the file name\n",
    "file_path = os.path.dirname(seda.__file__)+'/models_aux/model_coverage/'\n",
    "file = f'{model}_free_parameters.pickle'\n",
    "out_file = file_path+file\n",
    "\n",
    "# extract and save the values for all the model free parameters with spectra in the indicated directory\n",
    "out = seda.select_model_spectra(model=model, model_dir=model_dir, out_file=out_file, \n",
    "                                filename_pattern=filename_pattern, save_results=True)"
   ]
  },
  {
   "cell_type": "markdown",
   "id": "db698abf",
   "metadata": {},
   "source": [
    "Explore some info from the new models. For example, the grid points from each free parameters are obtained with:"
   ]
  },
  {
   "cell_type": "code",
   "execution_count": 5,
   "id": "a654170e",
   "metadata": {},
   "outputs": [
    {
     "data": {
      "text/plain": [
       "{'Teff': array([ 400.,  450.,  500.,  550.,  600.,  650.,  700.,  750.,  800.,\n",
       "         850.,  900.,  950., 1000., 1050., 1100., 1150., 1200., 1250.,\n",
       "        1300., 1350., 1400., 1450., 1500., 1550., 1600., 1650., 1700.,\n",
       "        1750., 1800., 1850., 1900., 1950., 2000.]),\n",
       " 'logg': array([3. , 3.5, 4. , 4.5, 5. ]),\n",
       " 'Z': array([-0.49,  0.  ,  0.5 ,  1.  ,  1.5 ,  2.  ]),\n",
       " 'CtoO': array([0.1 , 0.15, 0.2 , 0.25, 0.3 , 0.35, 0.4 , 0.45, 0.5 , 0.55, 0.6 ,\n",
       "        0.65, 0.7 , 0.75, 0.8 ])}"
      ]
     },
     "execution_count": 5,
     "metadata": {},
     "output_type": "execute_result"
    }
   ],
   "source": [
    "seda.Models(model).params_unique"
   ]
  },
  {
   "cell_type": "markdown",
   "id": "a129d93f",
   "metadata": {},
   "source": [
    "We can plot the coverage of two free parameters with the function by changing `xparam` and `yparam` to any free parameters in the models:"
   ]
  },
  {
   "cell_type": "code",
   "execution_count": 8,
   "id": "2121abf1",
   "metadata": {},
   "outputs": [
    {
     "data": {
      "image/png": "[encoded data removed]",
      "text/plain": [
       "<Figure size 640x480 with 1 Axes>"
      ]
     },
     "metadata": {},
     "output_type": "display_data"
    }
   ],
   "source": [
    "seda.plot_model_coverage(model=model, xparam='Teff', yparam='logg')"
   ]
  },
  {
   "cell_type": "markdown",
   "id": "6d0aaeda",
   "metadata": {},
   "source": [
    "The last step is to indicate how to read model spectra, providing wavelengths in micron and fluxes in Jy or erg/s/cm2/A."
   ]
  },
  {
   "cell_type": "code",
   "execution_count": 7,
   "id": "ab70709e",
   "metadata": {},
   "outputs": [
    {
     "data": {
      "text/latex": [
       "$[1.2499901,~1.1128527,~1.1858911,~\\dots,~0.023185137,~0.023226894,~0.023269779] \\; \\mathrm{\\frac{W}{m^{3}}}$"
      ],
      "text/plain": [
       "<Quantity [1.24999015, 1.11285266, 1.18589112, ..., 0.02318514, 0.02322689,\n",
       "           0.02326978] W / m3>"
      ]
     },
     "execution_count": 7,
     "metadata": {},
     "output_type": "execute_result"
    }
   ],
   "source": [
    "from astropy.io import ascii\n",
    "from astropy import units as u\n",
    "from astropy.units.equivalencies import spectral\n",
    "\n",
    "spec_model = ascii.read(model_dir+'spectra_YGP_550K_logg5.0_met10.00_CO0.65.dat')\n",
    "wl_model = spec_model['wavenumber'] # 1/cm\n",
    "wl_model = (wl_model/u.cm).to(u.um, equivalencies=spectral()) # um\n",
    "wl_model = wl_model.value\n",
    "\n",
    "flux_model = spec_model['spectral_flux'] # W.m-2/cm-1 (W*cm/m2)\n",
    "\n",
    "\n",
    "# HOW TO CONVERT FLUX IN W*cm/m2 to W/m2/m???\n",
    "# flux_model = flux_model*u.W*u.m**-2/u.cm**-1\n",
    "flux_model*u.W*u.m**-2/((u.cm**-1).to(u.m, equivalencies=spectral())*u.m)\n",
    "# flux_model.to(u.erg/u.s/u.cm**2/u.angstrom)\n",
    "# flux_model.to(u.W*u.m**-2/u.m**-1, equivalencies=spectral())\n",
    "\n",
    "f'{model}_sep_params.py'"
   ]
  },
  {
   "cell_type": "code",
   "execution_count": 10,
   "id": "958fe037",
   "metadata": {},
   "outputs": [
    {
     "data": {
      "text/plain": [
       "astropy.units.quantity.Quantity"
      ]
     },
     "execution_count": 10,
     "metadata": {},
     "output_type": "execute_result"
    }
   ],
   "source": [
    "d = 15*u.pc\n",
    "type(d)"
   ]
  },
  {
   "cell_type": "code",
   "execution_count": null,
   "id": "e249cae3",
   "metadata": {},
   "outputs": [],
   "source": [
    "TeffXXX_loggYYY_"
   ]
  },
  {
   "cell_type": "code",
   "execution_count": null,
   "id": "38b417c0",
   "metadata": {},
   "outputs": [],
   "source": []
  },
  {
   "cell_type": "code",
   "execution_count": null,
   "id": "04058ad9",
   "metadata": {},
   "outputs": [],
   "source": []
  },
  {
   "cell_type": "code",
   "execution_count": 9,
   "id": "f8b0e8b2",
   "metadata": {},
   "outputs": [
    {
     "name": "stdout",
     "output_type": "stream",
     "text": [
      "\n",
      "      226 model spectra\n",
      "\n",
      "         Coverage of free parameter saved successfully\n"
     ]
    }
   ],
   "source": [
    "# read all the Sonora Elf Owl models\n",
    "model = 'Sonora_Elf_Owl'\n",
    "# all folder with model spectra\n",
    "model_folders = np.array(['output_275.0_325.0/', 'output_350.0_400.0/', \n",
    "                          'output_425.0_475.0/', 'output_500.0_550.0/', \n",
    "                          'output_575.0_650.0/', 'output_700.0_800.0/', \n",
    "                          'output_850.0_950.0/', 'output_1000.0_1200.0/',\n",
    "                          'output_1300.0_1400.0/', 'output_1600.0_1800.0/', \n",
    "                          'output_1900.0_2100.0/', 'output_2200.0_2400.0/'\n",
    "                          ])\n",
    "# path to the folder with the spectra\n",
    "model_path = '/home/gsuarez/TRABAJO/MODELS/atmosphere_models/Sonora_Elf_Owl/spectra/'\n",
    "# attach the path to each folder\n",
    "model_dir = np.char.add(model_path, model_folders)\n",
    "\n",
    "model = 'Sonora_Diamondback'\n",
    "model_dir = ['/home/gsuarez/TRABAJO/MODELS/atmosphere_models/Sonora_Diamondback/spectra/']\n",
    "model = 'LB23'\n",
    "model_dir = '/home/gsuarez/TRABAJO/MODELS/atmosphere_models/LB2023_extended/LB2023_extended/Spectra/'\n",
    "model = 'Sonora_Cholla'\n",
    "model_dir = '/home/gsuarez/TRABAJO/MODELS/atmosphere_models/Sonora_Cholla/spectra_files/'\n",
    "model = 'Sonora_Bobcat'\n",
    "model_dir = ['/home/gsuarez/TRABAJO/MODELS/atmosphere_models/Sonora_Bobcat/spectra_m+0.0/',\n",
    "             '/home/gsuarez/TRABAJO/MODELS/atmosphere_models/Sonora_Bobcat/spectra_m+0.5/',\n",
    "             '/home/gsuarez/TRABAJO/MODELS/atmosphere_models/Sonora_Bobcat/spectra_m-0.5/',\n",
    "             '/home/gsuarez/TRABAJO/MODELS/atmosphere_models/Sonora_Bobcat/spectra_m+0.0_co0.5_g1000nc/',\n",
    "             '/home/gsuarez/TRABAJO/MODELS/atmosphere_models/Sonora_Bobcat/spectra_m+0.0_co1.5_g1000nc/',\n",
    "            ]\n",
    "model = 'ATMO2020'\n",
    "model_dir = ['/home/gsuarez/TRABAJO/MODELS/atmosphere_models/ATMO2020/atmosphere_models/CEQ_spectra/',\n",
    "             '/home/gsuarez/TRABAJO/MODELS/atmosphere_models/ATMO2020/atmosphere_models/NEQ_weak_spectra/',\n",
    "             '/home/gsuarez/TRABAJO/MODELS/atmosphere_models/ATMO2020/atmosphere_models/NEQ_strong_spectra/',\n",
    "            ]\n",
    "model = 'BT-Settl'\n",
    "model_dir = ['/home/gsuarez/TRABAJO/MODELS/atmosphere_models/Allard_Models/BT-Settl/CIFIST2011c/SPECTRA/']\n",
    "model = 'SM08'\n",
    "model_dir = '/home/gsuarez/TRABAJO/MODELS/atmosphere_models/Saumon_Marley_2008_models/spectra/'\n",
    "\n",
    "\n",
    "# get all spectra files in the directories\n",
    "# and save then in the folder seda/models_aux/model_coverage/\n",
    "out = seda.select_model_spectra(model=model, model_dir=model_dir, save_results=True)"
   ]
  }
 ],
 "metadata": {
  "kernelspec": {
   "display_name": "Python 3 (ipykernel)",
   "language": "python",
   "name": "python3"
  },
  "language_info": {
   "codemirror_mode": {
    "name": "ipython",
    "version": 3
   },
   "file_extension": ".py",
   "mimetype": "text/x-python",
   "name": "python",
   "nbconvert_exporter": "python",
   "pygments_lexer": "ipython3",
   "version": "3.9.13"
  }
 },
 "nbformat": 4,
 "nbformat_minor": 5
}
